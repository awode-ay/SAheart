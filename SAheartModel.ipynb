{
 "cells": [
  {
   "cell_type": "code",
   "execution_count": 1,
   "metadata": {},
   "outputs": [],
   "source": [
    "import pandas as pd\n",
    "import numpy as np\n",
    "import matplotlib.pyplot as plt\n",
    "import seaborn as sns"
   ]
  },
  {
   "cell_type": "code",
   "execution_count": 2,
   "metadata": {},
   "outputs": [
    {
     "data": {
      "text/plain": [
       "0    302\n",
       "1    160\n",
       "Name: chd, dtype: int64"
      ]
     },
     "execution_count": 2,
     "metadata": {},
     "output_type": "execute_result"
    }
   ],
   "source": [
    "df = pd.read_csv(\"SAheart.csv\",index_col=0)\n",
    "df.chd.value_counts()"
   ]
  },
  {
   "cell_type": "code",
   "execution_count": 4,
   "metadata": {},
   "outputs": [
    {
     "data": {
      "text/plain": [
       "Index(['sbp', 'tobacco', 'ldl', 'adiposity', 'famhist', 'typea', 'obesity',\n",
       "       'alcohol', 'age', 'chd'],\n",
       "      dtype='object')"
      ]
     },
     "execution_count": 4,
     "metadata": {},
     "output_type": "execute_result"
    }
   ],
   "source": [
    "df.columns"
   ]
  },
  {
   "cell_type": "code",
   "execution_count": 3,
   "metadata": {},
   "outputs": [
    {
     "data": {
      "text/plain": [
       "<matplotlib.axes._subplots.AxesSubplot at 0xe0d3970>"
      ]
     },
     "execution_count": 3,
     "metadata": {},
     "output_type": "execute_result"
    },
    {
     "data": {
      "image/png": "[encoded data removed]",
      "text/plain": [
       "<Figure size 432x288 with 1 Axes>"
      ]
     },
     "metadata": {
      "needs_background": "light"
     },
     "output_type": "display_data"
    }
   ],
   "source": [
    "sns.countplot(df.chd)"
   ]
  },
  {
   "cell_type": "code",
   "execution_count": 28,
   "metadata": {},
   "outputs": [
    {
     "data": {
      "text/html": [
       "<div>\n",
       "<style scoped>\n",
       "    .dataframe tbody tr th:only-of-type {\n",
       "        vertical-align: middle;\n",
       "    }\n",
       "\n",
       "    .dataframe tbody tr th {\n",
       "        vertical-align: top;\n",
       "    }\n",
       "\n",
       "    .dataframe thead th {\n",
       "        text-align: right;\n",
       "    }\n",
       "</style>\n",
       "<table border=\"1\" class=\"dataframe\">\n",
       "  <thead>\n",
       "    <tr style=\"text-align: right;\">\n",
       "      <th></th>\n",
       "      <th>sbp</th>\n",
       "      <th>tobacco</th>\n",
       "      <th>ldl</th>\n",
       "      <th>adiposity</th>\n",
       "      <th>famhist</th>\n",
       "      <th>typea</th>\n",
       "      <th>obesity</th>\n",
       "      <th>alcohol</th>\n",
       "      <th>age</th>\n",
       "      <th>chd</th>\n",
       "    </tr>\n",
       "    <tr>\n",
       "      <th>row.names</th>\n",
       "      <th></th>\n",
       "      <th></th>\n",
       "      <th></th>\n",
       "      <th></th>\n",
       "      <th></th>\n",
       "      <th></th>\n",
       "      <th></th>\n",
       "      <th></th>\n",
       "      <th></th>\n",
       "      <th></th>\n",
       "    </tr>\n",
       "  </thead>\n",
       "  <tbody>\n",
       "    <tr>\n",
       "      <th>71</th>\n",
       "      <td>118</td>\n",
       "      <td>0.00</td>\n",
       "      <td>3.67</td>\n",
       "      <td>12.13</td>\n",
       "      <td>Absent</td>\n",
       "      <td>51</td>\n",
       "      <td>19.15</td>\n",
       "      <td>0.60</td>\n",
       "      <td>15</td>\n",
       "      <td>0</td>\n",
       "    </tr>\n",
       "    <tr>\n",
       "      <th>47</th>\n",
       "      <td>162</td>\n",
       "      <td>7.40</td>\n",
       "      <td>8.55</td>\n",
       "      <td>24.65</td>\n",
       "      <td>Present</td>\n",
       "      <td>64</td>\n",
       "      <td>25.71</td>\n",
       "      <td>5.86</td>\n",
       "      <td>58</td>\n",
       "      <td>1</td>\n",
       "    </tr>\n",
       "    <tr>\n",
       "      <th>218</th>\n",
       "      <td>124</td>\n",
       "      <td>0.81</td>\n",
       "      <td>6.16</td>\n",
       "      <td>11.61</td>\n",
       "      <td>Absent</td>\n",
       "      <td>35</td>\n",
       "      <td>21.47</td>\n",
       "      <td>10.49</td>\n",
       "      <td>26</td>\n",
       "      <td>0</td>\n",
       "    </tr>\n",
       "    <tr>\n",
       "      <th>415</th>\n",
       "      <td>216</td>\n",
       "      <td>0.92</td>\n",
       "      <td>2.66</td>\n",
       "      <td>19.85</td>\n",
       "      <td>Present</td>\n",
       "      <td>49</td>\n",
       "      <td>20.58</td>\n",
       "      <td>0.51</td>\n",
       "      <td>63</td>\n",
       "      <td>1</td>\n",
       "    </tr>\n",
       "    <tr>\n",
       "      <th>286</th>\n",
       "      <td>148</td>\n",
       "      <td>15.00</td>\n",
       "      <td>4.98</td>\n",
       "      <td>36.94</td>\n",
       "      <td>Present</td>\n",
       "      <td>72</td>\n",
       "      <td>31.83</td>\n",
       "      <td>66.27</td>\n",
       "      <td>41</td>\n",
       "      <td>1</td>\n",
       "    </tr>\n",
       "    <tr>\n",
       "      <th>...</th>\n",
       "      <td>...</td>\n",
       "      <td>...</td>\n",
       "      <td>...</td>\n",
       "      <td>...</td>\n",
       "      <td>...</td>\n",
       "      <td>...</td>\n",
       "      <td>...</td>\n",
       "      <td>...</td>\n",
       "      <td>...</td>\n",
       "      <td>...</td>\n",
       "    </tr>\n",
       "    <tr>\n",
       "      <th>278</th>\n",
       "      <td>174</td>\n",
       "      <td>2.02</td>\n",
       "      <td>6.57</td>\n",
       "      <td>31.90</td>\n",
       "      <td>Present</td>\n",
       "      <td>50</td>\n",
       "      <td>28.75</td>\n",
       "      <td>11.83</td>\n",
       "      <td>64</td>\n",
       "      <td>1</td>\n",
       "    </tr>\n",
       "    <tr>\n",
       "      <th>253</th>\n",
       "      <td>166</td>\n",
       "      <td>3.00</td>\n",
       "      <td>3.82</td>\n",
       "      <td>26.75</td>\n",
       "      <td>Absent</td>\n",
       "      <td>45</td>\n",
       "      <td>20.86</td>\n",
       "      <td>0.00</td>\n",
       "      <td>63</td>\n",
       "      <td>1</td>\n",
       "    </tr>\n",
       "    <tr>\n",
       "      <th>19</th>\n",
       "      <td>158</td>\n",
       "      <td>2.60</td>\n",
       "      <td>7.46</td>\n",
       "      <td>34.07</td>\n",
       "      <td>Present</td>\n",
       "      <td>61</td>\n",
       "      <td>29.30</td>\n",
       "      <td>53.28</td>\n",
       "      <td>62</td>\n",
       "      <td>1</td>\n",
       "    </tr>\n",
       "    <tr>\n",
       "      <th>347</th>\n",
       "      <td>198</td>\n",
       "      <td>0.52</td>\n",
       "      <td>11.89</td>\n",
       "      <td>27.68</td>\n",
       "      <td>Present</td>\n",
       "      <td>48</td>\n",
       "      <td>28.40</td>\n",
       "      <td>78.99</td>\n",
       "      <td>26</td>\n",
       "      <td>1</td>\n",
       "    </tr>\n",
       "    <tr>\n",
       "      <th>309</th>\n",
       "      <td>132</td>\n",
       "      <td>8.40</td>\n",
       "      <td>3.57</td>\n",
       "      <td>13.68</td>\n",
       "      <td>Absent</td>\n",
       "      <td>42</td>\n",
       "      <td>18.75</td>\n",
       "      <td>15.43</td>\n",
       "      <td>59</td>\n",
       "      <td>1</td>\n",
       "    </tr>\n",
       "  </tbody>\n",
       "</table>\n",
       "<p>604 rows × 10 columns</p>\n",
       "</div>"
      ],
      "text/plain": [
       "           sbp  tobacco    ldl  adiposity  famhist  typea  obesity  alcohol  \\\n",
       "row.names                                                                     \n",
       "71         118     0.00   3.67      12.13   Absent     51    19.15     0.60   \n",
       "47         162     7.40   8.55      24.65  Present     64    25.71     5.86   \n",
       "218        124     0.81   6.16      11.61   Absent     35    21.47    10.49   \n",
       "415        216     0.92   2.66      19.85  Present     49    20.58     0.51   \n",
       "286        148    15.00   4.98      36.94  Present     72    31.83    66.27   \n",
       "...        ...      ...    ...        ...      ...    ...      ...      ...   \n",
       "278        174     2.02   6.57      31.90  Present     50    28.75    11.83   \n",
       "253        166     3.00   3.82      26.75   Absent     45    20.86     0.00   \n",
       "19         158     2.60   7.46      34.07  Present     61    29.30    53.28   \n",
       "347        198     0.52  11.89      27.68  Present     48    28.40    78.99   \n",
       "309        132     8.40   3.57      13.68   Absent     42    18.75    15.43   \n",
       "\n",
       "           age  chd  \n",
       "row.names            \n",
       "71          15    0  \n",
       "47          58    1  \n",
       "218         26    0  \n",
       "415         63    1  \n",
       "286         41    1  \n",
       "...        ...  ...  \n",
       "278         64    1  \n",
       "253         63    1  \n",
       "19          62    1  \n",
       "347         26    1  \n",
       "309         59    1  \n",
       "\n",
       "[604 rows x 10 columns]"
      ]
     },
     "execution_count": 28,
     "metadata": {},
     "output_type": "execute_result"
    }
   ],
   "source": [
    "from sklearn.utils import resample,shuffle\n",
    "with_chd = df[df[\"chd\"] == 1]\n",
    "without_chd = df[df[\"chd\"] == 0]\n",
    "df_minority_upsample = resample(with_chd,replace=True,n_samples=302)\n",
    "new_df = pd.concat([df_minority_upsample,without_chd])\n",
    "new_df = shuffle(new_df)\n",
    "new_df"
   ]
  },
  {
   "cell_type": "code",
   "execution_count": 13,
   "metadata": {},
   "outputs": [],
   "source": [
    "X_features = list(df.columns)\n",
    "X_features.remove(\"chd\")\n",
    "X = pd.get_dummies(df[X_features],drop_first=True)\n",
    "y = df.chd"
   ]
  },
  {
   "cell_type": "code",
   "execution_count": 37,
   "metadata": {},
   "outputs": [
    {
     "name": "stderr",
     "output_type": "stream",
     "text": [
      "C:\\Users\\hp\\anaconda3\\lib\\site-packages\\sklearn\\linear_model\\logistic.py:432: FutureWarning: Default solver will be changed to 'lbfgs' in 0.22. Specify a solver to silence this warning.\n",
      "  FutureWarning)\n"
     ]
    }
   ],
   "source": [
    "from sklearn.model_selection import train_test_split,GridSearchCV\n",
    "from sklearn.linear_model import LogisticRegression\n",
    "from sklearn import metrics\n",
    "X_train,X_test,y_train,y_test = train_test_split(X,y,test_size = 0.2, random_state=20)\n",
    "model = LogisticRegression(random_state=20)\n",
    "log = model.fit(X_train,y_train)"
   ]
  },
  {
   "cell_type": "code",
   "execution_count": 36,
   "metadata": {},
   "outputs": [
    {
     "data": {
      "text/plain": [
       "0.7634408602150538"
      ]
     },
     "execution_count": 36,
     "metadata": {},
     "output_type": "execute_result"
    }
   ],
   "source": [
    "y_pred = model.predict(X_test)\n",
    "cm = metrics.confusion_matrix(y_pred,y_test)\n",
    "acc = metrics.accuracy_score(y_pred,y_test)\n",
    "acc"
   ]
  },
  {
   "cell_type": "code",
   "execution_count": 31,
   "metadata": {},
   "outputs": [],
   "source": [
    "X_features2 = list(new_df.columns)\n",
    "X_features2.remove(\"chd\")\n",
    "X2 = pd.get_dummies(new_df[X_features2],drop_first=True)\n",
    "y2 = new_df.chd"
   ]
  },
  {
   "cell_type": "code",
   "execution_count": 32,
   "metadata": {},
   "outputs": [
    {
     "name": "stderr",
     "output_type": "stream",
     "text": [
      "C:\\Users\\hp\\anaconda3\\lib\\site-packages\\sklearn\\linear_model\\logistic.py:432: FutureWarning: Default solver will be changed to 'lbfgs' in 0.22. Specify a solver to silence this warning.\n",
      "  FutureWarning)\n"
     ]
    }
   ],
   "source": [
    "X_train2,X_test2,y_train2,y_test2 = train_test_split(X2,y2,test_size = 0.2, random_state=20)\n",
    "model2 = LogisticRegression(random_state=20)\n",
    "log2 = model.fit(X_train2,y_train2)"
   ]
  },
  {
   "cell_type": "code",
   "execution_count": 35,
   "metadata": {},
   "outputs": [
    {
     "data": {
      "text/plain": [
       "0.7107438016528925"
      ]
     },
     "execution_count": 35,
     "metadata": {},
     "output_type": "execute_result"
    }
   ],
   "source": [
    "y_pred2 = model.predict(X_test2)\n",
    "cm2 = metrics.confusion_matrix(y_pred2,y_test2)\n",
    "acc2 = metrics.accuracy_score(y_pred2,y_test2)\n",
    "acc2"
   ]
  },
  {
   "cell_type": "code",
   "execution_count": 38,
   "metadata": {},
   "outputs": [
    {
     "name": "stderr",
     "output_type": "stream",
     "text": [
      "C:\\Users\\hp\\anaconda3\\lib\\site-packages\\sklearn\\model_selection\\_search.py:813: DeprecationWarning: The default of the `iid` parameter will change from True to False in version 0.22 and will be removed in 0.24. This will change numeric results when test-set sizes are unequal.\n",
      "  DeprecationWarning)\n"
     ]
    },
    {
     "data": {
      "text/plain": [
       "GridSearchCV(cv=5, error_score='raise-deprecating',\n",
       "             estimator=RandomForestClassifier(bootstrap=True, class_weight=None,\n",
       "                                              criterion='gini', max_depth=None,\n",
       "                                              max_features='auto',\n",
       "                                              max_leaf_nodes=None,\n",
       "                                              min_impurity_decrease=0.0,\n",
       "                                              min_impurity_split=None,\n",
       "                                              min_samples_leaf=1,\n",
       "                                              min_samples_split=2,\n",
       "                                              min_weight_fraction_leaf=0.0,\n",
       "                                              n_estimators='warn', n_jobs=None,\n",
       "                                              oob_score=False, random_state=20,\n",
       "                                              verbose=0, warm_start=False),\n",
       "             iid='warn', n_jobs=None,\n",
       "             param_grid=[{'max_depth': [3, 5, 7, 9],\n",
       "                          'max_features': [0.1, 0.2, 0.3, 0.5],\n",
       "                          'n_estimators': [50, 100, 200, 500]}],\n",
       "             pre_dispatch='2*n_jobs', refit=True, return_train_score=False,\n",
       "             scoring='roc_auc', verbose=0)"
      ]
     },
     "execution_count": 38,
     "metadata": {},
     "output_type": "execute_result"
    }
   ],
   "source": [
    "from sklearn.ensemble import RandomForestClassifier\n",
    "rfc = RandomForestClassifier(random_state = 20)\n",
    "tuned_para = [{\"n_estimators\":[50, 100, 200, 500],\"max_depth\":[3, 5, 7, 9],\"max_features\":[0.1, 0.2, 0.3, 0.5]}]\n",
    "mdl = GridSearchCV(rfc,tuned_para,cv=5,scoring=\"roc_auc\")\n",
    "mdl.fit(X_train2,y_train2)"
   ]
  },
  {
   "cell_type": "code",
   "execution_count": 39,
   "metadata": {},
   "outputs": [
    {
     "data": {
      "text/plain": [
       "{'max_depth': 9, 'max_features': 0.1, 'n_estimators': 500}"
      ]
     },
     "execution_count": 39,
     "metadata": {},
     "output_type": "execute_result"
    }
   ],
   "source": [
    "mdl.best_params_"
   ]
  },
  {
   "cell_type": "code",
   "execution_count": 40,
   "metadata": {},
   "outputs": [
    {
     "data": {
      "text/plain": [
       "0.9049857115926278"
      ]
     },
     "execution_count": 40,
     "metadata": {},
     "output_type": "execute_result"
    }
   ],
   "source": [
    "mdl.best_score_"
   ]
  },
  {
   "cell_type": "code",
   "execution_count": 42,
   "metadata": {},
   "outputs": [
    {
     "data": {
      "text/plain": [
       "RandomForestClassifier(bootstrap=True, class_weight=None, criterion='gini',\n",
       "                       max_depth=9, max_features=0.1, max_leaf_nodes=None,\n",
       "                       min_impurity_decrease=0.0, min_impurity_split=None,\n",
       "                       min_samples_leaf=1, min_samples_split=2,\n",
       "                       min_weight_fraction_leaf=0.0, n_estimators=500,\n",
       "                       n_jobs=None, oob_score=False, random_state=20, verbose=0,\n",
       "                       warm_start=False)"
      ]
     },
     "execution_count": 42,
     "metadata": {},
     "output_type": "execute_result"
    }
   ],
   "source": [
    "randforclf = RandomForestClassifier(max_depth= 9, max_features= 0.1, n_estimators= 500,random_state=20)\n",
    "randforclf.fit(X_train2,y_train2)"
   ]
  },
  {
   "cell_type": "code",
   "execution_count": 45,
   "metadata": {},
   "outputs": [
    {
     "data": {
      "text/plain": [
       "0.7768595041322314"
      ]
     },
     "execution_count": 45,
     "metadata": {},
     "output_type": "execute_result"
    }
   ],
   "source": [
    "y_pred3 = randforclf.predict(X_test2)\n",
    "cm3 = metrics.confusion_matrix(y_pred3,y_test2)\n",
    "acc3 = metrics.accuracy_score(y_pred3,y_test2)\n",
    "acc3"
   ]
  },
  {
   "cell_type": "code",
   "execution_count": 50,
   "metadata": {},
   "outputs": [
    {
     "data": {
      "text/html": [
       "<div>\n",
       "<style scoped>\n",
       "    .dataframe tbody tr th:only-of-type {\n",
       "        vertical-align: middle;\n",
       "    }\n",
       "\n",
       "    .dataframe tbody tr th {\n",
       "        vertical-align: top;\n",
       "    }\n",
       "\n",
       "    .dataframe thead th {\n",
       "        text-align: right;\n",
       "    }\n",
       "</style>\n",
       "<table border=\"1\" class=\"dataframe\">\n",
       "  <thead>\n",
       "    <tr style=\"text-align: right;\">\n",
       "      <th></th>\n",
       "      <th>features</th>\n",
       "      <th>importance</th>\n",
       "      <th>% importance</th>\n",
       "    </tr>\n",
       "  </thead>\n",
       "  <tbody>\n",
       "    <tr>\n",
       "      <th>1</th>\n",
       "      <td>tobacco</td>\n",
       "      <td>0.146233</td>\n",
       "      <td>14.623274</td>\n",
       "    </tr>\n",
       "    <tr>\n",
       "      <th>7</th>\n",
       "      <td>age</td>\n",
       "      <td>0.132978</td>\n",
       "      <td>13.297763</td>\n",
       "    </tr>\n",
       "    <tr>\n",
       "      <th>2</th>\n",
       "      <td>ldl</td>\n",
       "      <td>0.132541</td>\n",
       "      <td>13.254058</td>\n",
       "    </tr>\n",
       "    <tr>\n",
       "      <th>3</th>\n",
       "      <td>adiposity</td>\n",
       "      <td>0.121232</td>\n",
       "      <td>12.123208</td>\n",
       "    </tr>\n",
       "    <tr>\n",
       "      <th>4</th>\n",
       "      <td>typea</td>\n",
       "      <td>0.110731</td>\n",
       "      <td>11.073128</td>\n",
       "    </tr>\n",
       "    <tr>\n",
       "      <th>5</th>\n",
       "      <td>obesity</td>\n",
       "      <td>0.107261</td>\n",
       "      <td>10.726080</td>\n",
       "    </tr>\n",
       "    <tr>\n",
       "      <th>0</th>\n",
       "      <td>sbp</td>\n",
       "      <td>0.100339</td>\n",
       "      <td>10.033919</td>\n",
       "    </tr>\n",
       "    <tr>\n",
       "      <th>6</th>\n",
       "      <td>alcohol</td>\n",
       "      <td>0.096182</td>\n",
       "      <td>9.618191</td>\n",
       "    </tr>\n",
       "    <tr>\n",
       "      <th>8</th>\n",
       "      <td>famhist_Present</td>\n",
       "      <td>0.052504</td>\n",
       "      <td>5.250377</td>\n",
       "    </tr>\n",
       "  </tbody>\n",
       "</table>\n",
       "</div>"
      ],
      "text/plain": [
       "          features  importance  % importance\n",
       "1          tobacco    0.146233     14.623274\n",
       "7              age    0.132978     13.297763\n",
       "2              ldl    0.132541     13.254058\n",
       "3        adiposity    0.121232     12.123208\n",
       "4            typea    0.110731     11.073128\n",
       "5          obesity    0.107261     10.726080\n",
       "0              sbp    0.100339     10.033919\n",
       "6          alcohol    0.096182      9.618191\n",
       "8  famhist_Present    0.052504      5.250377"
      ]
     },
     "execution_count": 50,
     "metadata": {},
     "output_type": "execute_result"
    }
   ],
   "source": [
    "feat_imp = pd.DataFrame({\"features\":X_train2.columns,\"importance\":randforclf.feature_importances_})\n",
    "feat_imp[\"% importance\"] = feat_imp.importance*100\n",
    "feat_imp.sort_values(\"% importance\",ascending=False)"
   ]
  }
 ],
 "metadata": {
  "kernelspec": {
   "display_name": "Python 3",
   "language": "python",
   "name": "python3"
  },
  "language_info": {
   "codemirror_mode": {
    "name": "ipython",
    "version": 3
   },
   "file_extension": ".py",
   "mimetype": "text/x-python",
   "name": "python",
   "nbconvert_exporter": "python",
   "pygments_lexer": "ipython3",
   "version": "3.7.6"
  }
 },
 "nbformat": 4,
 "nbformat_minor": 4
}
